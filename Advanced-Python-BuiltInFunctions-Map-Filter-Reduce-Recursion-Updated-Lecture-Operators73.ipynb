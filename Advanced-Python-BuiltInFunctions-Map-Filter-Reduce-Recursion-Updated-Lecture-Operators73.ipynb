{
 "cells": [
  {
   "cell_type": "markdown",
   "metadata": {},
   "source": [
    "# Map, Filter, Reduce, Lambda & Recursion"
   ]
  },
  {
   "cell_type": "markdown",
   "metadata": {},
   "source": [
    "## Tasks Today:\n",
    "\n",
    "1) <b>Lambda Functions</b> <br>\n",
    " &nbsp;&nbsp;&nbsp;&nbsp; a) Syntax <br>\n",
    " &nbsp;&nbsp;&nbsp;&nbsp; b) Saving to a Variable <br>\n",
    " &nbsp;&nbsp;&nbsp;&nbsp; c) Multiple Inputs <br>\n",
    " &nbsp;&nbsp;&nbsp;&nbsp; d) Passing a Lambda into a Function <br>\n",
    " &nbsp;&nbsp;&nbsp;&nbsp; e) Returning a Lambda from a Function <br>\n",
    " &nbsp;&nbsp;&nbsp;&nbsp; f) In-Class Exercise #1 <br>\n",
    "2) <b>Map</b> <br>\n",
    " &nbsp;&nbsp;&nbsp;&nbsp; a) Syntax <br>\n",
    " &nbsp;&nbsp;&nbsp;&nbsp; b) Using Lambda's with Map <br>\n",
    " &nbsp;&nbsp;&nbsp;&nbsp; c) In-Class Exercise #2 <br>\n",
    "3) <b>Filter</b> <br>\n",
    " &nbsp;&nbsp;&nbsp;&nbsp; a) Syntax <br>\n",
    " &nbsp;&nbsp;&nbsp;&nbsp; b) Using Lambda's with Filter <br>\n",
    " &nbsp;&nbsp;&nbsp;&nbsp; c) In-Class Exercise #3 <br>\n",
    "4) <b>Reduce</b> <br>\n",
    " &nbsp;&nbsp;&nbsp;&nbsp; a) Syntax <br>\n",
    " &nbsp;&nbsp;&nbsp;&nbsp; b) Using Lambda's with Reduce <br>\n",
    " &nbsp;&nbsp;&nbsp;&nbsp; c) In-Class Exercise #4 <br>\n",
    "5) <b>Recursion</b> <br>\n",
    " &nbsp;&nbsp;&nbsp;&nbsp; a) Implementing a Base <br>\n",
    " &nbsp;&nbsp;&nbsp;&nbsp; b) Writing a Factorial Function <br>\n",
    " &nbsp;&nbsp;&nbsp;&nbsp; c) In-Class Exercise #5 <br>\n",
    "6) <b>Generators & Iterators</b> <br>\n",
    " &nbsp;&nbsp;&nbsp;&nbsp; a) Yield Keyword <br>\n",
    " &nbsp;&nbsp;&nbsp;&nbsp; b) Inifinite Generator <br>\n",
    " &nbsp;&nbsp;&nbsp;&nbsp; c) In-Class Exercise #6 <br>\n",
    "7) <b>Exercises</b> <br>\n",
    " &nbsp;&nbsp;&nbsp;&nbsp; a) Exercise #1 - Filtering Empty Strings <br>\n",
    " &nbsp;&nbsp;&nbsp;&nbsp; b) Exercise #2 - Sorting with Last Name <br>\n",
    " &nbsp;&nbsp;&nbsp;&nbsp; c) Exercise #3 - Conversion to Farhenheit <br>\n",
    " &nbsp;&nbsp;&nbsp;&nbsp; d) Exercise #4 - Fibonacci Sequence <br>"
   ]
  },
  {
   "cell_type": "markdown",
   "metadata": {},
   "source": [
    "## Lambda Functions <br>\n",
    "<p>Lambda functions... or \"Anonymous Functions\" are referring to inline functions with no name. The keyword lambda denotes the no name function, and executes within a single line. Without saving it to a variable; however, it is not able to be used, unless passed in either as a paramater or within list comprehension.<br>Written as \"(keyword lambda) (one or more inputs) (colon) (function to be executed)\"</p>"
   ]
  },
  {
   "cell_type": "markdown",
   "metadata": {},
   "source": [
    "#### Syntax"
   ]
  },
  {
   "cell_type": "code",
   "execution_count": 4,
   "metadata": {},
   "outputs": [
    {
     "name": "stdout",
     "output_type": "stream",
     "text": [
      "20\n",
      "20\n"
     ]
    }
   ],
   "source": [
    "# Lambda input(s): transformation\n",
    "\n",
    "def timesTwo(x):\n",
    "    return x*2\n",
    "print(timesTwo(10))\n",
    "\n",
    "# Lambda Function Syntax (not saving in a variable)\n",
    "\n",
    "(lambda x: x * 2)(10)\n",
    "print((lambda x: x * 2)(10))"
   ]
  },
  {
   "cell_type": "markdown",
   "metadata": {},
   "source": [
    "#### Saving to a Variable"
   ]
  },
  {
   "cell_type": "code",
   "execution_count": 6,
   "metadata": {},
   "outputs": [
    {
     "data": {
      "text/plain": [
       "10"
      ]
     },
     "execution_count": 6,
     "metadata": {},
     "output_type": "execute_result"
    }
   ],
   "source": [
    "lamb = lambda x: x*2\n",
    "\n",
    "# Saves function into stored variable.\n",
    "lamb(5)"
   ]
  },
  {
   "cell_type": "markdown",
   "metadata": {},
   "source": [
    "#### Multiple Inputs"
   ]
  },
  {
   "cell_type": "code",
   "execution_count": 8,
   "metadata": {},
   "outputs": [
    {
     "name": "stdout",
     "output_type": "stream",
     "text": [
      "16\n",
      "20\n"
     ]
    }
   ],
   "source": [
    "# Multiple inputs - Unsaved\n",
    "print((lambda x,y,z: x*y*z)(2,4,2))\n",
    "\n",
    "\n",
    "# Saving Multiple input Lambda in a variable.\n",
    "test = lambda x,y,z: x*y*z\n",
    "\n",
    "print(test(2,5,2))"
   ]
  },
  {
   "cell_type": "markdown",
   "metadata": {},
   "source": [
    "#### Passing a Lambda into a Function"
   ]
  },
  {
   "cell_type": "code",
   "execution_count": 10,
   "metadata": {},
   "outputs": [
    {
     "data": {
      "text/plain": [
       "16"
      ]
     },
     "execution_count": 10,
     "metadata": {},
     "output_type": "execute_result"
    }
   ],
   "source": [
    "def multiply(f, num):\n",
    "    \"\"\"\n",
    "    f expects a lambda function. \n",
    "    num expects a number.\n",
    "    \"\"\"\n",
    "    return f(num)\n",
    "\n",
    "multiply(lambda x: x**2, 4)\n",
    "\n",
    "# Steps broken down\n",
    "# Calling multiply with ...\n",
    "# f = lambda x: x**2\n",
    "# num = 4\n",
    "# f(num)"
   ]
  },
  {
   "cell_type": "markdown",
   "metadata": {},
   "source": [
    "#### Returning a Lambda from a Function"
   ]
  },
  {
   "cell_type": "code",
   "execution_count": 17,
   "metadata": {},
   "outputs": [
    {
     "name": "stdout",
     "output_type": "stream",
     "text": [
      "<function returnFunc.<locals>.multiply at 0x7fea40a71dc0>\n",
      "8\n",
      "5\n"
     ]
    }
   ],
   "source": [
    "# Regular User-Defined function\n",
    "def multiply_test(num):\n",
    "    return num * 4\n",
    "\n",
    "multiply_test(25)\n",
    "\n",
    "\n",
    "\n",
    "# Also can define functions within another function's scope.\n",
    "def returnFunc():\n",
    "    test = 4 # Not being used, placeholder.\n",
    "    def multiply(num):\n",
    "        return num*2\n",
    "    return multiply\n",
    "\n",
    "print(returnFunc())\n",
    "f_return = returnFunc()\n",
    "print(f_return(4))\n",
    "\n",
    "\n",
    "\n",
    "# Example with Lambda\n",
    "def returnLam(b,c):\n",
    "    return lambda x,y: x + y + b + c\n",
    "\n",
    "r_lamb = returnLam(1,2)\n",
    "print(r_lamb(1,1))\n",
    "\n",
    "# Full breakdown..\n",
    "# Call returnLamb..\n",
    "# b = 1\n",
    "# c = 2\n",
    "# Returns lambda x,y: x + y + 1+ 2\n",
    "# Call the lambda with..\n",
    "# x = 1\n",
    "# y = 1\n",
    "# Returns 1 + 1 + 1 + 2 = 5"
   ]
  },
  {
   "cell_type": "markdown",
   "metadata": {},
   "source": [
    "#### If Statements within Lambdas"
   ]
  },
  {
   "cell_type": "code",
   "execution_count": 18,
   "metadata": {},
   "outputs": [
    {
     "data": {
      "text/plain": [
       "8"
      ]
     },
     "execution_count": 18,
     "metadata": {},
     "output_type": "execute_result"
    }
   ],
   "source": [
    "# Syntax -- Lambda x: True if (condition) else False\n",
    "# Writing a Lambda function that multiplies a number by 2 if it is less than 10.. or adds 2 if > 10\n",
    "\n",
    "\n",
    "f_conditional = lambda x: x * 2 if x < 10 else x + 2\n",
    "print(f_conditional(20))\n",
    "print(f_conditional(2))\n",
    "\n",
    "\n",
    "# Regularly Defined\n",
    "def condition(x):\n",
    "    if x < 10:\n",
    "        return x*2\n",
    "    else:\n",
    "        return x+2"
   ]
  },
  {
   "cell_type": "markdown",
   "metadata": {},
   "source": [
    "#### In-Class Exercise #1 <br>\n",
    "<p>Write an anonymous function that cubes the arguments passed in and assign the anonymous function to a variable 'f'.</p>"
   ]
  },
  {
   "cell_type": "code",
   "execution_count": 27,
   "metadata": {},
   "outputs": [
    {
     "data": {
      "text/plain": [
       "27"
      ]
     },
     "execution_count": 27,
     "metadata": {},
     "output_type": "execute_result"
    }
   ],
   "source": [
    "f = lambda x: x ** 3\n",
    "\n",
    "f(3)"
   ]
  },
  {
   "cell_type": "markdown",
   "metadata": {},
   "source": [
    "## Map <br>\n",
    "<p>The map function allows you to iterate over an entire list while running a function on each item of the list. This is why the map function works well with lambda's, because it simplifies things and you write less lines of code.<br>The syntax for a map function is \"map(function to be used, list to be used)\"<br>However, you must be careful, as the map function returns a map object, not a list. To turn it into a list we use the list() type conversion.</p>"
   ]
  },
  {
   "cell_type": "markdown",
   "metadata": {},
   "source": [
    "#### Syntax"
   ]
  },
  {
   "cell_type": "code",
   "execution_count": 33,
   "metadata": {},
   "outputs": [
    {
     "name": "stdout",
     "output_type": "stream",
     "text": [
      "[(16, 16), (11, 10), (20, 3), (9, 4), (15, 6), (20, 10)]\n"
     ]
    }
   ],
   "source": [
    "# map(function, iterable(list, dict, tuple, set))\n",
    "# Can occur with prebuilt functions or lambdas.\n",
    "\n",
    "def squared(num, num2):\n",
    "    if num < 10 and num2 < 10:\n",
    "        return num**2, num2**2\n",
    "    else:\n",
    "        return num, num2\n",
    "    \n",
    "    \n",
    "# squared(2,2)\n",
    "\n",
    "numbers = [4,11,20,3,15,20]\n",
    "more_nums = [4,10,3,2,6,10]\n",
    "\n",
    "squared_map = list(map(squared, numbers, more_nums))\n",
    "print(squared_map)"
   ]
  },
  {
   "cell_type": "markdown",
   "metadata": {},
   "source": [
    "#### Using Lambda's with Map"
   ]
  },
  {
   "cell_type": "code",
   "execution_count": 37,
   "metadata": {},
   "outputs": [
    {
     "name": "stdout",
     "output_type": "stream",
     "text": [
      "[(16, 16), (11, 10), (20, 3), (9, 4), (15, 6), (20, 10)]\n"
     ]
    }
   ],
   "source": [
    "# map(lambdaFunc, iterable(s))\n",
    "# Lambda will be created in-line (usually)\n",
    "\n",
    "squared_lamb = list(map(lambda x,y: (x**2, y**2) if x < 10 and y < 10 else (x,y), numbers, more_nums))\n",
    "print(squared_lamb)"
   ]
  },
  {
   "cell_type": "markdown",
   "metadata": {},
   "source": [
    "#### In-Class Exercise #2 <br>\n",
    "<p>Use the map function to double each number and minus it by one in the list by using a lambda function</p>"
   ]
  },
  {
   "cell_type": "code",
   "execution_count": 49,
   "metadata": {},
   "outputs": [
    {
     "name": "stdout",
     "output_type": "stream",
     "text": [
      "[1, 9, 39, 29, 7, 3, 13]\n",
      "[1, 9, 39, 29, 7, 3, 13]\n"
     ]
    }
   ],
   "source": [
    "a_list = [1,5,20,15,4,2,7]\n",
    "\n",
    "squaredNum = list(map(lambda x: (x * 2 - 1), a_list))\n",
    "print(squaredNum)\n",
    "# Expected output:\n",
    "# [1,9,39,29,7,3,13]\n",
    "\n",
    "\n",
    "\n",
    "# This is what happens in the background of above map(lambda, list)\n",
    "new_list = []\n",
    "for x in a_list:\n",
    "    new_list.append(x*2-1)\n",
    "print(new_list)\n"
   ]
  },
  {
   "cell_type": "markdown",
   "metadata": {},
   "source": [
    "## Filter() <br>\n",
    "<p>Filter's are similar to the map function, where you're able to pass a function argument and a list argument and filter out something from the list based on the conditions passed. Similar to the map function, it returns a filter object, so you need to type convert it to a list()</p>"
   ]
  },
  {
   "cell_type": "markdown",
   "metadata": {},
   "source": [
    "#### Syntax"
   ]
  },
  {
   "cell_type": "code",
   "execution_count": 58,
   "metadata": {},
   "outputs": [
    {
     "name": "stdout",
     "output_type": "stream",
     "text": [
      "['Angelica', 'Andy']\n"
     ]
    }
   ],
   "source": [
    "names = ['Bob', 'Angelica', 'Jessie', 'Andy', 'Eric']\n",
    "\n",
    "def a_names(name):\n",
    "    if name[0].lower() == 'a':\n",
    "        return True\n",
    "    else:\n",
    "        return False\n",
    "\n",
    "new_names = list(filter(a_names, names))\n",
    "print(new_names)"
   ]
  },
  {
   "cell_type": "markdown",
   "metadata": {},
   "source": [
    "#### Using Lambda's with Filter()"
   ]
  },
  {
   "cell_type": "code",
   "execution_count": 61,
   "metadata": {},
   "outputs": [
    {
     "name": "stdout",
     "output_type": "stream",
     "text": [
      "['Angelica', 'Andy']\n"
     ]
    }
   ],
   "source": [
    "new_names_lamb = list(filter(lambda name: name[0].lower() == 'a', names))\n",
    "print(new_names_lamb)\n",
    "\n"
   ]
  },
  {
   "cell_type": "markdown",
   "metadata": {},
   "source": [
    "#### In-Class Exercise #3 <br>\n",
    "<p>Filter out all the numbers that are below the mean of the list.<br><b>Hint: Import the 'statistics' module</b></p>"
   ]
  },
  {
   "cell_type": "code",
   "execution_count": 75,
   "metadata": {},
   "outputs": [
    {
     "name": "stdout",
     "output_type": "stream",
     "text": [
      "[7, 9, 4.9]\n",
      "[7, 9, 4.9]\n"
     ]
    }
   ],
   "source": [
    "from statistics import mean\n",
    "\n",
    "nums = [2,7,4.2,1.6,9,4.4,4.9]\n",
    "\n",
    "belowMean = list(filter(lambda x: x >= mean(nums), nums))           \n",
    "print(belowMean)\n",
    "                 \n",
    "                 \n",
    "                 \n",
    "                 \n",
    "### Classic function definition\n",
    "def below(num):\n",
    "    return num >= mean(nums)\n",
    "\n",
    "below_mean2 = list(filter(below, nums))\n",
    "print(below_mean2)\n",
    "                 \n",
    "                 \n",
    "                 "
   ]
  },
  {
   "cell_type": "markdown",
   "metadata": {},
   "source": [
    "## Reduce() <br>\n",
    "<p>Be very careful when using this function, as of Python 3 it's been moved to the 'functools' library and no longer is a built-in function.<br>The creator of Python himself, says to just use a for loop instead.</p>"
   ]
  },
  {
   "cell_type": "markdown",
   "metadata": {},
   "source": [
    "#### Syntax"
   ]
  },
  {
   "cell_type": "code",
   "execution_count": 79,
   "metadata": {},
   "outputs": [
    {
     "name": "stdout",
     "output_type": "stream",
     "text": [
      "30\n",
      "-26\n"
     ]
    }
   ],
   "source": [
    "from functools import reduce\n",
    "\n",
    "# reduce(function, iterable)\n",
    "\n",
    "list_1 = [2,4,6,8,10]\n",
    "\n",
    "def addNums(num1, num2):\n",
    "    return num1 + num2\n",
    "\n",
    "result_add = reduce(addNums, list_1)\n",
    "print(result_add)\n",
    "\n",
    "\n",
    "\n",
    "# Subtract all nums\n",
    "def subNums(num1, num2):\n",
    "    return num1 - num2\n",
    "\n",
    "result_sub = reduce(subNums, list_1)\n",
    "print(result_sub)\n",
    "\n",
    "\n",
    "# Typically, I would do the following instead of reducing. Counter sets original start value. (+,-,0)(*,/,1)\n",
    "def timesNums(a_list):\n",
    "    counter = 1\n",
    "    for num in a_list:\n",
    "        counter*=num\n",
    "    return counter\n"
   ]
  },
  {
   "cell_type": "markdown",
   "metadata": {},
   "source": [
    "#### Using Lambda's with Reduce()"
   ]
  },
  {
   "cell_type": "code",
   "execution_count": 80,
   "metadata": {},
   "outputs": [
    {
     "name": "stdout",
     "output_type": "stream",
     "text": [
      "30\n"
     ]
    }
   ],
   "source": [
    "red_lamb = reduce(lambda x,y: x + y, list_1)\n",
    "print(red_lamb)"
   ]
  },
  {
   "cell_type": "markdown",
   "metadata": {},
   "source": [
    "#### In-Class Exercise #4 <br>\n",
    "<p>Use the reduce function to multiply the numbers in the list below together with a lambda function.</p>"
   ]
  },
  {
   "cell_type": "code",
   "execution_count": 85,
   "metadata": {},
   "outputs": [
    {
     "name": "stdout",
     "output_type": "stream",
     "text": [
      "3840\n"
     ]
    }
   ],
   "source": [
    "# Expected Solution 3840\n",
    "list_1 = [2,4,6,8,10]\n",
    "counter = 1\n",
    "\n",
    "timesNums = reduce(lambda x,y: x * y, list_1)\n",
    "print(timesNums)"
   ]
  },
  {
   "cell_type": "markdown",
   "metadata": {},
   "source": [
    "## Recursion <br>\n",
    "<p>Recursion means that a function is calling itself, so it contanstly executes until a base case is reached. It will then push the returning values back up the chain until the function is complete. A prime example of recursion is computing factorials... such that 5! (factorial) is 5*4*3*2*1 which equals 120.</p>"
   ]
  },
  {
   "cell_type": "markdown",
   "metadata": {},
   "source": [
    "#### Implementing a Base Case"
   ]
  },
  {
   "cell_type": "code",
   "execution_count": 88,
   "metadata": {},
   "outputs": [
    {
     "name": "stdout",
     "output_type": "stream",
     "text": [
      "addNums(5) = 5 + addNums(4)\n",
      "addNums(4) = 4 + addNums(3)\n",
      "addNums(3) = 3 + addNums(2)\n",
      "addNums(2) = 2 + addNums(1)\n",
      "addNums(1) = 1\n"
     ]
    },
    {
     "data": {
      "text/plain": [
       "15"
      ]
     },
     "execution_count": 88,
     "metadata": {},
     "output_type": "execute_result"
    }
   ],
   "source": [
    "def addNums(num):\n",
    "    # Set the base case\n",
    "    if num <= 1:\n",
    "        print('addNums(1) = 1')\n",
    "        return 1\n",
    "    else:\n",
    "        print(f'addNums({num}) = {num} + addNums({num -1})')\n",
    "        return num + addNums(num-1)\n",
    "    \n",
    "addNums(5)\n",
    "\n",
    "# How it works\n",
    "\n",
    "# addNums(5) = 5 + addNums(4)\n",
    "# addNums(4) = 4 + addNums(3)\n",
    "# addNums(3) = 3 + addNums(2)\n",
    "# addNums(2) = 2 + addNums(1)\n",
    "# addNums(1) = 1"
   ]
  },
  {
   "cell_type": "markdown",
   "metadata": {},
   "source": [
    "#### Writing a Factorial Function"
   ]
  },
  {
   "cell_type": "code",
   "execution_count": null,
   "metadata": {},
   "outputs": [],
   "source": [
    "# 5! -- 5*4*3*2*1 (factorial equasion)\n",
    "\n",
    "def factorial(num):\n",
    "    if num <= 1:\n",
    "        return 1\n",
    "    else:\n",
    "        return num * factorial(num - 1)\n",
    "    \n",
    "factorial(5)"
   ]
  },
  {
   "cell_type": "markdown",
   "metadata": {},
   "source": [
    "#### In-Class Exercise #5 <br>\n",
    "<p>Write a recursive function that subtracts all numbers to the argument given.</p>"
   ]
  },
  {
   "cell_type": "code",
   "execution_count": 93,
   "metadata": {},
   "outputs": [
    {
     "data": {
      "text/plain": [
       "3"
      ]
     },
     "execution_count": 93,
     "metadata": {},
     "output_type": "execute_result"
    }
   ],
   "source": [
    "def recurSub(num):\n",
    "    if num <= 1:\n",
    "        return 1\n",
    "    else:\n",
    "        return num - recurSub(num -1)\n",
    "    \n",
    "recurSub(5)\n",
    "    "
   ]
  },
  {
   "cell_type": "markdown",
   "metadata": {},
   "source": [
    "## Generators <br>\n",
    "<p>Generators are a type of iterable, like lists or tuples. They do not allow indexing, but they can still be iterated through with for loops. They are created using functions and the yield statement.</p>"
   ]
  },
  {
   "cell_type": "markdown",
   "metadata": {},
   "source": [
    "#### Yield Keyword <br>\n",
    "<p>The yield keyword denotes a generator, it doesn't return so it won't leave the function and reset all variables in the function scope, instead it yields the number back to the caller.</p>"
   ]
  },
  {
   "cell_type": "code",
   "execution_count": 97,
   "metadata": {},
   "outputs": [
    {
     "name": "stdout",
     "output_type": "stream",
     "text": [
      "25\n",
      "36\n",
      "49\n",
      "64\n",
      "81\n",
      "100\n",
      "121\n",
      "144\n",
      "169\n",
      "196\n",
      "225\n",
      "256\n",
      "289\n",
      "324\n",
      "361\n"
     ]
    }
   ],
   "source": [
    "def myRange(start, stop, step = 2):\n",
    "    while start < stop:\n",
    "        yield start ** 2 # yield keyword denotes generator.\n",
    "        start += step\n",
    "        \n",
    "for num in myRange(5, 20, 1):\n",
    "    print(num)\n",
    "    \n"
   ]
  },
  {
   "cell_type": "markdown",
   "metadata": {},
   "source": [
    "#### Infinite Generator"
   ]
  },
  {
   "cell_type": "code",
   "execution_count": null,
   "metadata": {},
   "outputs": [],
   "source": [
    "# bad, never create infinite loops"
   ]
  },
  {
   "cell_type": "markdown",
   "metadata": {},
   "source": [
    "#### In-Class Exercise #6 <br>\n",
    "<p>Create a generator that takes a number argument and yields that number squared, then prints each number squared until zero is reached.</p>"
   ]
  },
  {
   "cell_type": "code",
   "execution_count": 107,
   "metadata": {},
   "outputs": [
    {
     "name": "stdout",
     "output_type": "stream",
     "text": [
      "25\n",
      "24\n",
      "24\n",
      "23\n",
      "23\n",
      "22\n",
      "22\n",
      "21\n",
      "21\n",
      "20\n",
      "20\n",
      "19\n",
      "19\n",
      "18\n",
      "18\n",
      "17\n",
      "17\n",
      "16\n",
      "16\n",
      "15\n",
      "15\n",
      "14\n",
      "14\n",
      "13\n",
      "13\n",
      "12\n",
      "12\n",
      "11\n",
      "11\n",
      "10\n",
      "10\n",
      "9\n",
      "9\n",
      "8\n",
      "8\n",
      "7\n",
      "7\n",
      "6\n",
      "6\n",
      "5\n",
      "5\n"
     ]
    }
   ],
   "source": [
    "\n",
    "def myRange(start, stop, step = 1):\n",
    "    while stop >= start:\n",
    "        yield stop // 2\n",
    "        stop -= step\n",
    "\n",
    "for num in myRange(10, 50):\n",
    "    print(num)"
   ]
  },
  {
   "cell_type": "markdown",
   "metadata": {},
   "source": [
    "# Exercises"
   ]
  },
  {
   "cell_type": "markdown",
   "metadata": {},
   "source": [
    "### Exercise #1 <br>\n",
    "<p>Filter out all of the empty strings from the list below</p>\n",
    "\n",
    "`Output: ['Argentina', 'San Diego', 'Boston', 'New York']`"
   ]
  },
  {
   "cell_type": "code",
   "execution_count": null,
   "metadata": {},
   "outputs": [],
   "source": [
    "# list(filter(x, y))\n",
    "# Filter out whitespace too. \n",
    "places = [\" \",\"Argentina\", \" \", \"San Diego\",\"\",\"  \",\"\",\"Boston\",\"New York\"]\n",
    "\n"
   ]
  },
  {
   "cell_type": "markdown",
   "metadata": {},
   "source": [
    "### Exercise #2 <br>\n",
    "<p>Write an anonymous function that sorts this list by the last name...<br><b>Hint: Use the \".sort()\" method and access the key\"</b></p>\n",
    "\n",
    "`Output: ['Victor aNisimov', 'Gary A.J. Bernstein', 'Joel Carter', 'Andrew P. Garfield', 'David hassELHOFF']`"
   ]
  },
  {
   "cell_type": "code",
   "execution_count": null,
   "metadata": {},
   "outputs": [],
   "source": [
    "# Lambda function inside of sort, dont need map or filter.\n",
    "# Sort by first letter of last name.\n",
    "\n",
    "author = [\"Joel Carter\", \"Victor aNisimov\", \"Andrew P. Garfield\",\"David hassELHOFF\",\"Gary A.J. Bernstein\"]\n",
    "\n"
   ]
  },
  {
   "cell_type": "markdown",
   "metadata": {},
   "source": [
    "### Exercise #3 <br>\n",
    "<p>Convert the list below from Celsius to Farhenheit, using the map function with a lambda...</p>\n",
    "\n",
    "`Output: [('Nashua', 89.6), ('Boston', 53.6), ('Los Angelos', 111.2), ('Miami', 84.2)]\n",
    "`"
   ]
  },
  {
   "cell_type": "code",
   "execution_count": null,
   "metadata": {},
   "outputs": [],
   "source": [
    "# Map/filter function with lambda.\n",
    "# F = (9/5)*C + 32\n",
    "places = [('Nashua',32),(\"Boston\",12),(\"Los Angelos\",44),(\"Miami\",29)]\n"
   ]
  },
  {
   "cell_type": "markdown",
   "metadata": {},
   "source": [
    "### Exercise #4 <br>\n",
    "<p>Write a recursion function to perform the fibonacci sequence up to the number passed in.</p>\n",
    "\n",
    "`Output for fib(5) => \n",
    "Iteration 0: 1\n",
    "Iteration 1: 1\n",
    "Iteration 2: 2\n",
    "Iteration 3: 3\n",
    "Iteration 4: 5\n",
    "Iteration 5: 8`"
   ]
  },
  {
   "cell_type": "code",
   "execution_count": null,
   "metadata": {
    "scrolled": true
   },
   "outputs": [],
   "source": [
    "# Think about your basecase and what it has to be.\n",
    "\n"
   ]
  }
 ],
 "metadata": {
  "kernelspec": {
   "display_name": "Python 3",
   "language": "python",
   "name": "python3"
  },
  "language_info": {
   "codemirror_mode": {
    "name": "ipython",
    "version": 3
   },
   "file_extension": ".py",
   "mimetype": "text/x-python",
   "name": "python",
   "nbconvert_exporter": "python",
   "pygments_lexer": "ipython3",
   "version": "3.8.8"
  }
 },
 "nbformat": 4,
 "nbformat_minor": 2
}
