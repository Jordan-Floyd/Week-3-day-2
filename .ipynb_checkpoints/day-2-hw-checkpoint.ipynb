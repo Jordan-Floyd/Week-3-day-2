{
 "cells": [
  {
   "cell_type": "code",
   "execution_count": 11,
   "id": "5cc9a0a9",
   "metadata": {},
   "outputs": [
    {
     "name": "stdout",
     "output_type": "stream",
     "text": [
      "['Argentina', 'San Diego', 'Boston', 'New York']\n"
     ]
    }
   ],
   "source": [
    "# Exercise #1\n",
    "# Filter out all of the empty strings from the list below\n",
    "\n",
    "# Output: ['Argentina', 'San Diego', 'Boston', 'New York']\n",
    "\n",
    "\n",
    "\n",
    "# list(filter(x, y))\n",
    "# Filter out whitespace too. \n",
    "places = [\" \",\"Argentina\", \" \", \"San Diego\",\"\",\"  \",\"\",\"Boston\",\"New York\"]\n",
    "\n",
    "def a_places(places):\n",
    "        \n",
    "    if places.strip() != \"\":\n",
    "        return True\n",
    "    else:\n",
    "        return False\n",
    "new_places = list(filter(a_places, places))\n",
    "print(new_places)\n",
    "\n",
    "\n"
   ]
  },
  {
   "cell_type": "code",
   "execution_count": 21,
   "id": "890167b7",
   "metadata": {},
   "outputs": [
    {
     "name": "stdout",
     "output_type": "stream",
     "text": [
      "['Victor aNisimov', 'Gary A.J. Bernstein', 'Joel Carter', 'Andrew P. Garfield', 'David hassELHOFF']\n"
     ]
    }
   ],
   "source": [
    "# Exercise #2\n",
    "# Write an anonymous function that sorts this list by the last name...\n",
    "# Hint: Use the \".sort()\" method and access the key\"\n",
    "\n",
    "# Output: ['Victor aNisimov', 'Gary A.J. Bernstein', 'Joel Carter', 'Andrew P. Garfield', 'David hassELHOFF']\n",
    "\n",
    "# Lambda function inside of sort, dont need map or filter.\n",
    "# Sort by first letter of last name.\n",
    "\n",
    "\n",
    "author = [\"Joel Carter\", \"Victor aNisimov\", \"Andrew P. Garfield\",\"David hassELHOFF\",\"Gary A.J. Bernstein\"]\n",
    "\n",
    "author.sort(key = lambda name: name.split(\" \")[-1].lower())\n",
    "print (author)\n",
    "\n",
    "\n"
   ]
  },
  {
   "cell_type": "code",
   "execution_count": 56,
   "id": "1c920cb0",
   "metadata": {},
   "outputs": [
    {
     "name": "stdout",
     "output_type": "stream",
     "text": [
      "[33.8]\n"
     ]
    }
   ],
   "source": [
    "# Exercise #3\n",
    "# Convert the list below from Celsius to Farhenheit, using the map function with a lambda...\n",
    "\n",
    "# Output: [('Nashua', 89.6), ('Boston', 53.6), ('Los Angelos', 111.2), ('Miami', 84.2)]\n",
    "\n",
    "\n",
    "\n",
    "\n",
    "# Map/filter function with lambda.\n",
    "# F = (9/5)*C + 32\n",
    "places = [('Nashua',32),(\"Boston\",12),(\"Los Angelos\",44),(\"Miami\",29)]\n",
    "\n",
    "\n",
    "newTemp = list(map(lambda c: float(9/5)*c + 32, places))\n",
    "\n",
    "print(newTemp)\n",
    "                \n",
    "            "
   ]
  },
  {
   "cell_type": "code",
   "execution_count": 62,
   "id": "5f51cc12",
   "metadata": {},
   "outputs": [
    {
     "name": "stdout",
     "output_type": "stream",
     "text": [
      "fib (5) = 5 + fib(4)\n",
      "fib (4) = 4 + fib(3)\n",
      "fib (3) = 3 + fib(2)\n",
      "fib (2) = 2 + fib(1)\n",
      "fib (1) = 1 + fib(0)\n",
      "fib(1) = 1\n"
     ]
    },
    {
     "data": {
      "text/plain": [
       "16"
      ]
     },
     "execution_count": 62,
     "metadata": {},
     "output_type": "execute_result"
    }
   ],
   "source": [
    "# Exercise #4\n",
    "# Write a recursion function to perform the fibonacci sequence up to the number passed in.\n",
    "# Think about your basecase and what it has to be.\n",
    "\n",
    "# Output for fib(5) => \n",
    "# Iteration 0: 1\n",
    "# Iteration 1: 1\n",
    "# Iteration 2: 2\n",
    "# Iteration 3: 3\n",
    "# Iteration 4: 5\n",
    "# Iteration 5: 8\n",
    "\n",
    "\n",
    "\n",
    "\n",
    "def fib(num):\n",
    "    if num <= 0:\n",
    "        print('fib(1) = 1')\n",
    "        return 1\n",
    "    else:\n",
    "        print(f'fib ({num}) = {num} + fib({num-1})')\n",
    "        return num + fib(num-1)\n",
    "    \n",
    "fib(5)\n",
    "\n",
    "\n"
   ]
  },
  {
   "cell_type": "code",
   "execution_count": null,
   "id": "e862be0e",
   "metadata": {},
   "outputs": [],
   "source": []
  }
 ],
 "metadata": {
  "kernelspec": {
   "display_name": "Python 3",
   "language": "python",
   "name": "python3"
  },
  "language_info": {
   "codemirror_mode": {
    "name": "ipython",
    "version": 3
   },
   "file_extension": ".py",
   "mimetype": "text/x-python",
   "name": "python",
   "nbconvert_exporter": "python",
   "pygments_lexer": "ipython3",
   "version": "3.8.8"
  }
 },
 "nbformat": 4,
 "nbformat_minor": 5
}
